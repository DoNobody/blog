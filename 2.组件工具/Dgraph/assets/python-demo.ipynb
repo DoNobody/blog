{
 "cells": [
  {
   "cell_type": "code",
   "execution_count": 1,
   "metadata": {},
   "outputs": [
    {
     "name": "stdout",
     "output_type": "stream",
     "text": [
      "Looking in indexes: https://mirrors.aliyun.com/pypi/simple\n",
      "Requirement already satisfied: pydgraph in c:\\users\\admin\\appdata\\local\\packages\\pythonsoftwarefoundation.python.3.10_qbz5n2kfra8p0\\localcache\\local-packages\\python310\\site-packages (21.3.2)\n",
      "Requirement already satisfied: protobuf>=3.6.1 in c:\\users\\admin\\appdata\\local\\packages\\pythonsoftwarefoundation.python.3.10_qbz5n2kfra8p0\\localcache\\local-packages\\python310\\site-packages (from pydgraph) (3.20.1)\n",
      "Requirement already satisfied: grpcio>=1.18.0 in c:\\users\\admin\\appdata\\local\\packages\\pythonsoftwarefoundation.python.3.10_qbz5n2kfra8p0\\localcache\\local-packages\\python310\\site-packages (from pydgraph) (1.46.1)\n",
      "Requirement already satisfied: six>=1.5.2 in c:\\users\\admin\\appdata\\local\\packages\\pythonsoftwarefoundation.python.3.10_qbz5n2kfra8p0\\localcache\\local-packages\\python310\\site-packages (from grpcio>=1.18.0->pydgraph) (1.16.0)\n"
     ]
    },
    {
     "name": "stderr",
     "output_type": "stream",
     "text": [
      "WARNING: You are using pip version 22.0.4; however, version 22.1.2 is available.\n",
      "You should consider upgrading via the 'C:\\Users\\admin\\AppData\\Local\\Microsoft\\WindowsApps\\PythonSoftwareFoundation.Python.3.10_qbz5n2kfra8p0\\python.exe -m pip install --upgrade pip' command.\n"
     ]
    }
   ],
   "source": [
    "!pip install pydgraph -i https://mirrors.aliyun.com/pypi/simple"
   ]
  },
  {
   "cell_type": "code",
   "execution_count": 43,
   "metadata": {},
   "outputs": [],
   "source": [
    "import pydgraph\n",
    "import json"
   ]
  },
  {
   "cell_type": "code",
   "execution_count": 33,
   "metadata": {},
   "outputs": [],
   "source": [
    "client_stub = pydgraph.DgraphClientStub('dgraph-alpha.deny.pub:32080')\n",
    "client = pydgraph.DgraphClient(client_stub)"
   ]
  },
  {
   "cell_type": "code",
   "execution_count": 4,
   "metadata": {},
   "outputs": [],
   "source": [
    "schema = \"\"\"\n",
    "# Define Directives and index\n",
    "\n",
    "director.film: [uid] @reverse .\n",
    "actor.film: [uid] @count .\n",
    "genre: [uid] @reverse .\n",
    "initial_release_date: dateTime @index(year) .\n",
    "name: string @index(exact, term) @lang .\n",
    "starring: [uid] .\n",
    "performance.film: [uid] .\n",
    "performance.character_note: string .\n",
    "performance.character: [uid] .\n",
    "performance.actor: [uid] .\n",
    "performance.special_performance_type: [uid] .\n",
    "type: [uid] .\n",
    "\n",
    "# Define Types\n",
    "\n",
    "type Person {\n",
    "    name\n",
    "    director.film\n",
    "    actor.film\n",
    "}\n",
    "\n",
    "type Movie {\n",
    "    name\n",
    "    initial_release_date\n",
    "    genre\n",
    "    starring\n",
    "}\n",
    "\n",
    "type Genre {\n",
    "    name\n",
    "}\n",
    "\n",
    "type Performance {\n",
    "    performance.film\n",
    "    performance.character\n",
    "    performance.actor\n",
    "}\n",
    "\n",
    "\"\"\""
   ]
  },
  {
   "cell_type": "code",
   "execution_count": 5,
   "metadata": {},
   "outputs": [],
   "source": [
    "op = pydgraph.Operation(schema=schema)"
   ]
  },
  {
   "cell_type": "code",
   "execution_count": 6,
   "metadata": {},
   "outputs": [
    {
     "data": {
      "text/plain": []
     },
     "execution_count": 6,
     "metadata": {},
     "output_type": "execute_result"
    }
   ],
   "source": [
    "client.alter(op)"
   ]
  },
  {
   "cell_type": "code",
   "execution_count": 4,
   "metadata": {},
   "outputs": [],
   "source": [
    "query = \"\"\"{\n",
    "    runner(func: eq(Node.name, \"jenkins\")) {\n",
    "        uid\n",
    "        Node.name\n",
    "        Host.ip\n",
    "    }\n",
    "}\"\"\""
   ]
  },
  {
   "cell_type": "code",
   "execution_count": 5,
   "metadata": {},
   "outputs": [],
   "source": [
    "res = client.txn(read_only=True).query(query)"
   ]
  },
  {
   "cell_type": "code",
   "execution_count": 6,
   "metadata": {},
   "outputs": [
    {
     "data": {
      "text/plain": [
       "b'{\"runner\":[{\"uid\":\"0x2713\",\"Node.name\":\"jenkins\",\"Host.ip\":\"10.103.27.177\"}]}'"
      ]
     },
     "execution_count": 6,
     "metadata": {},
     "output_type": "execute_result"
    }
   ],
   "source": [
    "res.json"
   ]
  },
  {
   "cell_type": "code",
   "execution_count": 18,
   "metadata": {},
   "outputs": [],
   "source": [
    "mutation_sql = \"\"\"\n",
    "    _:x <dgraph.type> \"Host\" .\n",
    "    _:x <Host.admin> \"liuhongwei\" .\n",
    "    _:x <Host.ip> \"10.103.27.200\" .\n",
    "    _:x <Node.name> \"test200-test3-test-ds\" .\n",
    "    _:x <Node.healthy> \"0\" .\n",
    "    _:x <Node.createAt> \"2022-06-14T11:33:00\" .\n",
    "    _:x <Node.updateAt> \"2022-06-14T11:33:00\" .\n",
    "\"\"\""
   ]
  },
  {
   "cell_type": "code",
   "execution_count": 51,
   "metadata": {},
   "outputs": [],
   "source": [
    "mutation_sql = \"\"\"\n",
    "    <0x5> * * .\n",
    "\"\"\""
   ]
  },
  {
   "cell_type": "code",
   "execution_count": 52,
   "metadata": {},
   "outputs": [],
   "source": [
    "txn = client.txn()\n",
    "try: \n",
    "    mutation = txn.create_mutation(del_nquads=mutation_sql)\n",
    "    request = txn.create_request(mutations=[mutation], commit_now=True)\n",
    "    res = txn.do_request(request)\n",
    "finally:\n",
    "    txn.discard()"
   ]
  },
  {
   "cell_type": "code",
   "execution_count": 68,
   "metadata": {},
   "outputs": [],
   "source": [
    "mutation_json = {\n",
    "    \"Node.healthy\": 0,\n",
    "    \"Node.name\": \"test3\",\n",
    "    \"Node.createAt\": \"2022-06-14T14:14:00\",\n",
    "    \"Node.updateAt\": \"2022-06-14T14:14:00\",\n",
    "    \"Env.host\": {\n",
    "        \"uid\": \"0x4\"\n",
    "    },\n",
    "    \"dgraph.type\": \"Env\"\n",
    "}"
   ]
  },
  {
   "cell_type": "code",
   "execution_count": 69,
   "metadata": {},
   "outputs": [],
   "source": [
    "txn = client.txn()\n",
    "try:\n",
    "    mu = pydgraph.Mutation(set_json=json.dumps(mutation_json).encode('utf8'))\n",
    "    request = txn.create_request(mutations=[mu], commit_now=True)\n",
    "    txn.do_request(request)\n",
    "finally: \n",
    "    txn.discard()"
   ]
  },
  {
   "cell_type": "code",
   "execution_count": 72,
   "metadata": {},
   "outputs": [],
   "source": [
    "mutation_json = {\n",
    "    \"Node.name\": \"ZLH\",\n",
    "}"
   ]
  },
  {
   "cell_type": "code",
   "execution_count": 74,
   "metadata": {},
   "outputs": [],
   "source": [
    "txn = client.txn()\n",
    "try:\n",
    "    mu = txn.mutate(set_obj=mutation_json, commit_now=True)\n",
    "finally: \n",
    "    txn.discard()"
   ]
  },
  {
   "cell_type": "code",
   "execution_count": null,
   "metadata": {},
   "outputs": [],
   "source": []
  }
 ],
 "metadata": {
  "kernelspec": {
   "display_name": "Python 3.10.4 64-bit (windows store)",
   "language": "python",
   "name": "python3"
  },
  "language_info": {
   "codemirror_mode": {
    "name": "ipython",
    "version": 3
   },
   "file_extension": ".py",
   "mimetype": "text/x-python",
   "name": "python",
   "nbconvert_exporter": "python",
   "pygments_lexer": "ipython3",
   "version": "3.10.5"
  },
  "orig_nbformat": 4,
  "vscode": {
   "interpreter": {
    "hash": "8bf0d51478355d2251941b3b98616086516a0eddd7c72ee47a3371765770709a"
   }
  }
 },
 "nbformat": 4,
 "nbformat_minor": 2
}
